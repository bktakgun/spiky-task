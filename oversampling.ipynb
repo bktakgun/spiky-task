{
 "cells": [
  {
   "cell_type": "code",
   "execution_count": 65,
   "metadata": {},
   "outputs": [],
   "source": [
    "from imblearn.over_sampling import SMOTE, ADASYN\n",
    "import pandas as pd\n",
    "import pickle\n",
    "import numpy as np\n",
    "from sklearn.preprocessing import OneHotEncoder\n",
    "import math"
   ]
  },
  {
   "cell_type": "code",
   "execution_count": 10,
   "metadata": {},
   "outputs": [
    {
     "data": {
      "text/html": [
       "<div>\n",
       "<style scoped>\n",
       "    .dataframe tbody tr th:only-of-type {\n",
       "        vertical-align: middle;\n",
       "    }\n",
       "\n",
       "    .dataframe tbody tr th {\n",
       "        vertical-align: top;\n",
       "    }\n",
       "\n",
       "    .dataframe thead th {\n",
       "        text-align: right;\n",
       "    }\n",
       "</style>\n",
       "<table border=\"1\" class=\"dataframe\">\n",
       "  <thead>\n",
       "    <tr style=\"text-align: right;\">\n",
       "      <th></th>\n",
       "      <th>mins</th>\n",
       "      <th>teacher_emotion</th>\n",
       "      <th>teacher_energy</th>\n",
       "      <th>teacher_sentiment</th>\n",
       "      <th>teacher_language</th>\n",
       "      <th>teacher_objectivity</th>\n",
       "      <th>teacher_positivity</th>\n",
       "      <th>student_emotion</th>\n",
       "    </tr>\n",
       "  </thead>\n",
       "  <tbody>\n",
       "    <tr>\n",
       "      <th>0</th>\n",
       "      <td>1</td>\n",
       "      <td>annoyed</td>\n",
       "      <td>energetic</td>\n",
       "      <td>neither</td>\n",
       "      <td>b2</td>\n",
       "      <td>objective</td>\n",
       "      <td>neutral</td>\n",
       "      <td>sad</td>\n",
       "    </tr>\n",
       "    <tr>\n",
       "      <th>1</th>\n",
       "      <td>1</td>\n",
       "      <td>annoyed</td>\n",
       "      <td>energetic</td>\n",
       "      <td>neither</td>\n",
       "      <td>b2</td>\n",
       "      <td>objective</td>\n",
       "      <td>neutral</td>\n",
       "      <td>neutral</td>\n",
       "    </tr>\n",
       "    <tr>\n",
       "      <th>2</th>\n",
       "      <td>1</td>\n",
       "      <td>annoyed</td>\n",
       "      <td>energetic</td>\n",
       "      <td>neither</td>\n",
       "      <td>b2</td>\n",
       "      <td>objective</td>\n",
       "      <td>neutral</td>\n",
       "      <td>neutral</td>\n",
       "    </tr>\n",
       "    <tr>\n",
       "      <th>3</th>\n",
       "      <td>1</td>\n",
       "      <td>annoyed</td>\n",
       "      <td>energetic</td>\n",
       "      <td>neither</td>\n",
       "      <td>b2</td>\n",
       "      <td>objective</td>\n",
       "      <td>neutral</td>\n",
       "      <td>fearful</td>\n",
       "    </tr>\n",
       "    <tr>\n",
       "      <th>4</th>\n",
       "      <td>1</td>\n",
       "      <td>annoyed</td>\n",
       "      <td>energetic</td>\n",
       "      <td>neither</td>\n",
       "      <td>b2</td>\n",
       "      <td>objective</td>\n",
       "      <td>neutral</td>\n",
       "      <td>fearful</td>\n",
       "    </tr>\n",
       "    <tr>\n",
       "      <th>...</th>\n",
       "      <td>...</td>\n",
       "      <td>...</td>\n",
       "      <td>...</td>\n",
       "      <td>...</td>\n",
       "      <td>...</td>\n",
       "      <td>...</td>\n",
       "      <td>...</td>\n",
       "      <td>...</td>\n",
       "    </tr>\n",
       "    <tr>\n",
       "      <th>3522</th>\n",
       "      <td>59</td>\n",
       "      <td>neutral</td>\n",
       "      <td>monotonic</td>\n",
       "      <td>encouraging</td>\n",
       "      <td>b2</td>\n",
       "      <td>objective</td>\n",
       "      <td>positive</td>\n",
       "      <td>fearful</td>\n",
       "    </tr>\n",
       "    <tr>\n",
       "      <th>3523</th>\n",
       "      <td>59</td>\n",
       "      <td>neutral</td>\n",
       "      <td>monotonic</td>\n",
       "      <td>encouraging</td>\n",
       "      <td>b2</td>\n",
       "      <td>objective</td>\n",
       "      <td>positive</td>\n",
       "      <td>fearful</td>\n",
       "    </tr>\n",
       "    <tr>\n",
       "      <th>3524</th>\n",
       "      <td>59</td>\n",
       "      <td>neutral</td>\n",
       "      <td>monotonic</td>\n",
       "      <td>encouraging</td>\n",
       "      <td>b2</td>\n",
       "      <td>subjective</td>\n",
       "      <td>positive</td>\n",
       "      <td>happy</td>\n",
       "    </tr>\n",
       "    <tr>\n",
       "      <th>3525</th>\n",
       "      <td>59</td>\n",
       "      <td>neutral</td>\n",
       "      <td>monotonic</td>\n",
       "      <td>informative</td>\n",
       "      <td>b2</td>\n",
       "      <td>subjective</td>\n",
       "      <td>positive</td>\n",
       "      <td>neutral</td>\n",
       "    </tr>\n",
       "    <tr>\n",
       "      <th>3526</th>\n",
       "      <td>59</td>\n",
       "      <td>neutral</td>\n",
       "      <td>monotonic</td>\n",
       "      <td>informative</td>\n",
       "      <td>b2</td>\n",
       "      <td>subjective</td>\n",
       "      <td>positive</td>\n",
       "      <td>neutral</td>\n",
       "    </tr>\n",
       "  </tbody>\n",
       "</table>\n",
       "<p>51322 rows × 8 columns</p>\n",
       "</div>"
      ],
      "text/plain": [
       "      mins teacher_emotion teacher_energy teacher_sentiment teacher_language  \\\n",
       "0        1         annoyed      energetic           neither               b2   \n",
       "1        1         annoyed      energetic           neither               b2   \n",
       "2        1         annoyed      energetic           neither               b2   \n",
       "3        1         annoyed      energetic           neither               b2   \n",
       "4        1         annoyed      energetic           neither               b2   \n",
       "...    ...             ...            ...               ...              ...   \n",
       "3522    59         neutral      monotonic       encouraging               b2   \n",
       "3523    59         neutral      monotonic       encouraging               b2   \n",
       "3524    59         neutral      monotonic       encouraging               b2   \n",
       "3525    59         neutral      monotonic       informative               b2   \n",
       "3526    59         neutral      monotonic       informative               b2   \n",
       "\n",
       "     teacher_objectivity teacher_positivity student_emotion  \n",
       "0              objective            neutral             sad  \n",
       "1              objective            neutral         neutral  \n",
       "2              objective            neutral         neutral  \n",
       "3              objective            neutral         fearful  \n",
       "4              objective            neutral         fearful  \n",
       "...                  ...                ...             ...  \n",
       "3522           objective           positive         fearful  \n",
       "3523           objective           positive         fearful  \n",
       "3524          subjective           positive           happy  \n",
       "3525          subjective           positive         neutral  \n",
       "3526          subjective           positive         neutral  \n",
       "\n",
       "[51322 rows x 8 columns]"
      ]
     },
     "execution_count": 10,
     "metadata": {},
     "output_type": "execute_result"
    }
   ],
   "source": [
    "with open('all_dataset.pkl', 'rb') as f:\n",
    "    data = pickle.load(f)\n",
    "\n",
    "data.dropna()"
   ]
  },
  {
   "cell_type": "code",
   "execution_count": 43,
   "metadata": {},
   "outputs": [],
   "source": [
    "enc = OneHotEncoder(handle_unknown='ignore')\n",
    "columns_x = ['teacher_emotion', 'teacher_energy', 'teacher_sentiment', 'teacher_language', 'teacher_objectivity', 'teacher_positivity']\n",
    "columns_y = [\"student_emotion\"]"
   ]
  },
  {
   "cell_type": "code",
   "execution_count": 44,
   "metadata": {},
   "outputs": [],
   "source": [
    "X = data.loc[:, data.columns != 'student_emotion']\n",
    "y = data[[\"student_emotion\"]]"
   ]
  },
  {
   "cell_type": "code",
   "execution_count": 45,
   "metadata": {},
   "outputs": [],
   "source": [
    "def fix_label(name, labels):\n",
    "    name = [name] * labels.shape[0]\n",
    "    res = tuple(zip(name,labels))\n",
    "    fun = lambda a : f\"{a[0]}_{a[1]}\"\n",
    "    return list(map(fun,res))"
   ]
  },
  {
   "cell_type": "code",
   "execution_count": 46,
   "metadata": {},
   "outputs": [],
   "source": [
    "def encode(data, columns):\n",
    "    base = pd.DataFrame()\n",
    "    for name in columns:\n",
    "        sub_data = data[[name]]\n",
    "        label = sub_data[name].unique()\n",
    "        labels = fix_label(name, label)\n",
    "        data_fit = enc.fit_transform(sub_data.values).toarray()\n",
    "        res = pd.DataFrame(data_fit, columns = labels)\n",
    "        base = pd.concat([base,res], axis=1)\n",
    "    return base.to_numpy(), base.columns"
   ]
  },
  {
   "cell_type": "code",
   "execution_count": 47,
   "metadata": {},
   "outputs": [],
   "source": [
    "data_x, x_columns = encode(X,columns_x)\n",
    "data_y, y_columns = encode(y,columns_y)"
   ]
  },
  {
   "cell_type": "code",
   "execution_count": 70,
   "metadata": {},
   "outputs": [],
   "source": [
    "seed = 42\n",
    "smote = SMOTE(sampling_strategy='auto', random_state=seed)\n",
    "ada = ADASYN(random_state=seed, sampling_strategy='minority')"
   ]
  },
  {
   "cell_type": "code",
   "execution_count": 49,
   "metadata": {},
   "outputs": [
    {
     "name": "stdout",
     "output_type": "stream",
     "text": [
      "(51322, 27)\n",
      "(51322, 7)\n"
     ]
    }
   ],
   "source": [
    "print(data_x.shape)\n",
    "print(data_y.shape)"
   ]
  },
  {
   "cell_type": "code",
   "execution_count": 68,
   "metadata": {},
   "outputs": [],
   "source": [
    "X, y = smote.fit_resample(data_x, data_y)"
   ]
  },
  {
   "cell_type": "code",
   "execution_count": 72,
   "metadata": {},
   "outputs": [],
   "source": [
    "XX, yy = ada.fit_resample(data_x, data_y)"
   ]
  },
  {
   "cell_type": "code",
   "execution_count": 74,
   "metadata": {},
   "outputs": [
    {
     "name": "stdout",
     "output_type": "stream",
     "text": [
      "(144487, 27)\n",
      "(144487, 7)\n"
     ]
    }
   ],
   "source": [
    "print(X.shape)\n",
    "print(y.shape)"
   ]
  },
  {
   "cell_type": "code",
   "execution_count": 76,
   "metadata": {},
   "outputs": [],
   "source": [
    "from sklearn.model_selection import train_test_split as tts\n",
    "\n",
    "X_train, X_test, y_train, y_test = tts(XX, yy, test_size=0.25, random_state=42)\n"
   ]
  },
  {
   "cell_type": "code",
   "execution_count": 61,
   "metadata": {},
   "outputs": [],
   "source": [
    "with open(\"train_data_X_smote.npy\", \"wb\") as f:\n",
    "    np.save(f,X_train)\n",
    "with open(\"train_data_y_smote.npy\", \"wb\") as f:\n",
    "    np.save(f,y_train)\n",
    "with open(\"test_data_y_smote.npy\", \"wb\") as f:\n",
    "    np.save(f,y_test)\n",
    "with open(\"test_data_X_smote.npy\", \"wb\") as f:\n",
    "    np.save(f,X_test)"
   ]
  },
  {
   "cell_type": "code",
   "execution_count": 77,
   "metadata": {},
   "outputs": [],
   "source": [
    "with open(\"train_data_X_adasyn.npy\", \"wb\") as f:\n",
    "    np.save(f,X_train)\n",
    "with open(\"train_data_y_adasyn.npy\", \"wb\") as f:\n",
    "    np.save(f,y_train)\n",
    "with open(\"test_data_y_adasyn.npy\", \"wb\") as f:\n",
    "    np.save(f,y_test)\n",
    "with open(\"test_data_X_adasyn.npy\", \"wb\") as f:\n",
    "    np.save(f,X_test)"
   ]
  }
 ],
 "metadata": {
  "interpreter": {
   "hash": "3b09108e514517bd5e4a6e228723cfb42d49fc72c35aeaac957cf3be0497138a"
  },
  "kernelspec": {
   "display_name": "Python 3.8.11 64-bit ('py38': conda)",
   "name": "python3"
  },
  "language_info": {
   "codemirror_mode": {
    "name": "ipython",
    "version": 3
   },
   "file_extension": ".py",
   "mimetype": "text/x-python",
   "name": "python",
   "nbconvert_exporter": "python",
   "pygments_lexer": "ipython3",
   "version": "3.8.11"
  },
  "orig_nbformat": 4
 },
 "nbformat": 4,
 "nbformat_minor": 2
}
