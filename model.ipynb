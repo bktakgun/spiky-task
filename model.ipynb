{
 "cells": [
  {
   "cell_type": "code",
   "execution_count": 1,
   "metadata": {},
   "outputs": [],
   "source": [
    "import os\n",
    "import numpy as np\n",
    "import tensorflow as tf\n",
    "import keras\n",
    "from keras.layers import Flatten, Dense, Input, Dropout, BatchNormalization\n",
    "from keras.models import Model\n",
    "from keras.callbacks import TensorBoard, EarlyStopping, ModelCheckpoint"
   ]
  },
  {
   "cell_type": "code",
   "execution_count": 2,
   "metadata": {},
   "outputs": [],
   "source": [
    "def split(data):\n",
    "    return data[:,:-7], data[:, -7:]"
   ]
  },
  {
   "cell_type": "code",
   "execution_count": 3,
   "metadata": {},
   "outputs": [],
   "source": [
    "train = np.load(\"train_data.npy\", allow_pickle = True)\n",
    "test = np.load(\"test_data.npy\", allow_pickle = True)"
   ]
  },
  {
   "cell_type": "code",
   "execution_count": 4,
   "metadata": {},
   "outputs": [],
   "source": [
    "train_x, train_y = split(train)\n",
    "test_x, test_y = split(test)"
   ]
  },
  {
   "cell_type": "code",
   "execution_count": 20,
   "metadata": {},
   "outputs": [],
   "source": [
    "def layer_dense(amnt, x, size):\n",
    "    d = x\n",
    "    for i in range(amnt):\n",
    "        d = Dense(size, activation = \"relu\")(d)\n",
    "        d = Dropout(0.3)(d)\n",
    "        b = BatchNormalization()(d)\n",
    "    return b\n",
    "\n",
    "def get_model():\n",
    "\n",
    "    inputs = Input(train_x.shape[1])\n",
    "\n",
    "    l0 = inputs\n",
    "    l1 = layer_dense(2, l0, 16)\n",
    "    l2 = layer_dense(2, l1, 32)\n",
    "    l3 = layer_dense(3, l2, 32)\n",
    "\n",
    "    outputs = Dense(train_y.shape[1], activation = \"softmax\")(l3)\n",
    "    model = Model(inputs, outputs)\n",
    "\n",
    "    return model\n"
   ]
  },
  {
   "cell_type": "code",
   "execution_count": 21,
   "metadata": {},
   "outputs": [
    {
     "name": "stdout",
     "output_type": "stream",
     "text": [
      "Model: \"model_3\"\n",
      "_________________________________________________________________\n",
      "Layer (type)                 Output Shape              Param #   \n",
      "=================================================================\n",
      "input_4 (InputLayer)         [(None, 27)]              0         \n",
      "_________________________________________________________________\n",
      "dense_29 (Dense)             (None, 16)                448       \n",
      "_________________________________________________________________\n",
      "dropout_26 (Dropout)         (None, 16)                0         \n",
      "_________________________________________________________________\n",
      "dense_30 (Dense)             (None, 16)                272       \n",
      "_________________________________________________________________\n",
      "dropout_27 (Dropout)         (None, 16)                0         \n",
      "_________________________________________________________________\n",
      "batch_normalization_27 (Batc (None, 16)                64        \n",
      "_________________________________________________________________\n",
      "dense_31 (Dense)             (None, 32)                544       \n",
      "_________________________________________________________________\n",
      "dropout_28 (Dropout)         (None, 32)                0         \n",
      "_________________________________________________________________\n",
      "dense_32 (Dense)             (None, 32)                1056      \n",
      "_________________________________________________________________\n",
      "dropout_29 (Dropout)         (None, 32)                0         \n",
      "_________________________________________________________________\n",
      "batch_normalization_29 (Batc (None, 32)                128       \n",
      "_________________________________________________________________\n",
      "dense_33 (Dense)             (None, 32)                1056      \n",
      "_________________________________________________________________\n",
      "dropout_30 (Dropout)         (None, 32)                0         \n",
      "_________________________________________________________________\n",
      "dense_34 (Dense)             (None, 32)                1056      \n",
      "_________________________________________________________________\n",
      "dropout_31 (Dropout)         (None, 32)                0         \n",
      "_________________________________________________________________\n",
      "dense_35 (Dense)             (None, 32)                1056      \n",
      "_________________________________________________________________\n",
      "dropout_32 (Dropout)         (None, 32)                0         \n",
      "_________________________________________________________________\n",
      "batch_normalization_32 (Batc (None, 32)                128       \n",
      "_________________________________________________________________\n",
      "dense_36 (Dense)             (None, 7)                 231       \n",
      "=================================================================\n",
      "Total params: 6,039\n",
      "Trainable params: 5,879\n",
      "Non-trainable params: 160\n",
      "_________________________________________________________________\n"
     ]
    }
   ],
   "source": [
    "model = get_model()\n",
    "model.summary()"
   ]
  },
  {
   "cell_type": "code",
   "execution_count": 23,
   "metadata": {},
   "outputs": [],
   "source": [
    "model.compile(loss=tf.keras.losses.CategoricalCrossentropy(from_logits=False),\n",
    "              optimizer=\"adam\",\n",
    "              metrics=[\"acc\"])"
   ]
  },
  {
   "cell_type": "code",
   "execution_count": 22,
   "metadata": {},
   "outputs": [],
   "source": [
    "tensorboard = TensorBoard(log_dir=\"./tb/model_4\")\n",
    "early_stopping = EarlyStopping(monitor=\"val_loss\")\n",
    "model_checkpoint = ModelCheckpoint(\"./model/model_2\")"
   ]
  },
  {
   "cell_type": "code",
   "execution_count": 24,
   "metadata": {},
   "outputs": [
    {
     "name": "stdout",
     "output_type": "stream",
     "text": [
      "Epoch 1/50\n",
      "1684/1684 [==============================] - 6s 3ms/step - loss: 1.5980 - acc: 0.3542 - val_loss: 1.4493 - val_acc: 0.4027\n",
      "Epoch 2/50\n",
      "1684/1684 [==============================] - 4s 2ms/step - loss: 1.4530 - acc: 0.4030 - val_loss: 1.4496 - val_acc: 0.4027\n",
      "Epoch 3/50\n",
      "1684/1684 [==============================] - 4s 2ms/step - loss: 1.4485 - acc: 0.4041 - val_loss: 1.4484 - val_acc: 0.4027\n",
      "Epoch 4/50\n",
      "1684/1684 [==============================] - 4s 2ms/step - loss: 1.4471 - acc: 0.4041 - val_loss: 1.4489 - val_acc: 0.4027\n",
      "Epoch 5/50\n",
      "1684/1684 [==============================] - 4s 2ms/step - loss: 1.4461 - acc: 0.4037 - val_loss: 1.4480 - val_acc: 0.4027\n",
      "Epoch 6/50\n",
      "1684/1684 [==============================] - 4s 2ms/step - loss: 1.4455 - acc: 0.4048 - val_loss: 1.4483 - val_acc: 0.4027\n",
      "Epoch 7/50\n",
      "1684/1684 [==============================] - 4s 2ms/step - loss: 1.4450 - acc: 0.4039 - val_loss: 1.4471 - val_acc: 0.4027\n",
      "Epoch 8/50\n",
      "1684/1684 [==============================] - 4s 2ms/step - loss: 1.4436 - acc: 0.4041 - val_loss: 1.4438 - val_acc: 0.4031\n",
      "Epoch 9/50\n",
      "1684/1684 [==============================] - 4s 2ms/step - loss: 1.4409 - acc: 0.4045 - val_loss: 1.4384 - val_acc: 0.4054\n",
      "Epoch 10/50\n",
      "1684/1684 [==============================] - 4s 2ms/step - loss: 1.4371 - acc: 0.4043 - val_loss: 1.4364 - val_acc: 0.4098\n",
      "Epoch 11/50\n",
      "1684/1684 [==============================] - 4s 2ms/step - loss: 1.4360 - acc: 0.4081 - val_loss: 1.4347 - val_acc: 0.4057\n",
      "Epoch 12/50\n",
      "1684/1684 [==============================] - 4s 2ms/step - loss: 1.4334 - acc: 0.4077 - val_loss: 1.4323 - val_acc: 0.4109\n",
      "Epoch 13/50\n",
      "1684/1684 [==============================] - 4s 2ms/step - loss: 1.4319 - acc: 0.4117 - val_loss: 1.4309 - val_acc: 0.4116\n",
      "Epoch 14/50\n",
      "1684/1684 [==============================] - 4s 2ms/step - loss: 1.4303 - acc: 0.4124 - val_loss: 1.4315 - val_acc: 0.4068\n",
      "Epoch 15/50\n",
      "1684/1684 [==============================] - 4s 2ms/step - loss: 1.4287 - acc: 0.4124 - val_loss: 1.4301 - val_acc: 0.4161\n",
      "Epoch 16/50\n",
      "1684/1684 [==============================] - 4s 2ms/step - loss: 1.4302 - acc: 0.4119 - val_loss: 1.4297 - val_acc: 0.4129\n",
      "Epoch 17/50\n",
      "1684/1684 [==============================] - 4s 2ms/step - loss: 1.4276 - acc: 0.4152 - val_loss: 1.4291 - val_acc: 0.4130\n",
      "Epoch 18/50\n",
      "1684/1684 [==============================] - 4s 2ms/step - loss: 1.4273 - acc: 0.4149 - val_loss: 1.4289 - val_acc: 0.4119\n",
      "Epoch 19/50\n",
      "1684/1684 [==============================] - 4s 2ms/step - loss: 1.4255 - acc: 0.4180 - val_loss: 1.4291 - val_acc: 0.4124\n",
      "Epoch 20/50\n",
      "1684/1684 [==============================] - 4s 2ms/step - loss: 1.4269 - acc: 0.4149 - val_loss: 1.4289 - val_acc: 0.4115\n",
      "Epoch 21/50\n",
      "1684/1684 [==============================] - 4s 2ms/step - loss: 1.4254 - acc: 0.4177 - val_loss: 1.4279 - val_acc: 0.4110\n",
      "Epoch 22/50\n",
      "1684/1684 [==============================] - 4s 2ms/step - loss: 1.4248 - acc: 0.4157 - val_loss: 1.4280 - val_acc: 0.4115\n",
      "Epoch 23/50\n",
      "1684/1684 [==============================] - 4s 2ms/step - loss: 1.4246 - acc: 0.4186 - val_loss: 1.4291 - val_acc: 0.4103\n",
      "Epoch 24/50\n",
      "1684/1684 [==============================] - 4s 2ms/step - loss: 1.4260 - acc: 0.4164 - val_loss: 1.4283 - val_acc: 0.4099\n",
      "Epoch 25/50\n",
      "1684/1684 [==============================] - 4s 2ms/step - loss: 1.4249 - acc: 0.4166 - val_loss: 1.4277 - val_acc: 0.4129\n",
      "Epoch 26/50\n",
      "1684/1684 [==============================] - 4s 2ms/step - loss: 1.4246 - acc: 0.4161 - val_loss: 1.4263 - val_acc: 0.4116\n",
      "Epoch 27/50\n",
      "1684/1684 [==============================] - 4s 2ms/step - loss: 1.4250 - acc: 0.4143 - val_loss: 1.4267 - val_acc: 0.4123\n",
      "Epoch 28/50\n",
      "1684/1684 [==============================] - 4s 2ms/step - loss: 1.4244 - acc: 0.4175 - val_loss: 1.4269 - val_acc: 0.4161\n",
      "Epoch 29/50\n",
      "1684/1684 [==============================] - 4s 2ms/step - loss: 1.4244 - acc: 0.4186 - val_loss: 1.4255 - val_acc: 0.4133\n",
      "Epoch 30/50\n",
      "1684/1684 [==============================] - 4s 2ms/step - loss: 1.4248 - acc: 0.4186 - val_loss: 1.4264 - val_acc: 0.4096\n",
      "Epoch 31/50\n",
      "1684/1684 [==============================] - 4s 2ms/step - loss: 1.4240 - acc: 0.4158 - val_loss: 1.4261 - val_acc: 0.4097\n",
      "Epoch 32/50\n",
      "1684/1684 [==============================] - 4s 2ms/step - loss: 1.4237 - acc: 0.4178 - val_loss: 1.4270 - val_acc: 0.4106\n",
      "Epoch 33/50\n",
      "1684/1684 [==============================] - 4s 2ms/step - loss: 1.4241 - acc: 0.4190 - val_loss: 1.4266 - val_acc: 0.4085\n",
      "Epoch 34/50\n",
      "1684/1684 [==============================] - 4s 2ms/step - loss: 1.4224 - acc: 0.4154 - val_loss: 1.4263 - val_acc: 0.4134\n",
      "Epoch 35/50\n",
      "1684/1684 [==============================] - 4s 2ms/step - loss: 1.4239 - acc: 0.4173 - val_loss: 1.4270 - val_acc: 0.4108\n",
      "Epoch 36/50\n",
      "1684/1684 [==============================] - 4s 2ms/step - loss: 1.4225 - acc: 0.4154 - val_loss: 1.4273 - val_acc: 0.4142\n",
      "Epoch 37/50\n",
      "1684/1684 [==============================] - 4s 2ms/step - loss: 1.4229 - acc: 0.4168 - val_loss: 1.4277 - val_acc: 0.4166\n",
      "Epoch 38/50\n",
      "1684/1684 [==============================] - 4s 2ms/step - loss: 1.4219 - acc: 0.4190 - val_loss: 1.4256 - val_acc: 0.4115\n",
      "Epoch 39/50\n",
      "1684/1684 [==============================] - 4s 2ms/step - loss: 1.4225 - acc: 0.4186 - val_loss: 1.4248 - val_acc: 0.4117\n",
      "Epoch 40/50\n",
      "1684/1684 [==============================] - 4s 2ms/step - loss: 1.4229 - acc: 0.4177 - val_loss: 1.4266 - val_acc: 0.4080\n",
      "Epoch 41/50\n",
      "1684/1684 [==============================] - 4s 2ms/step - loss: 1.4231 - acc: 0.4192 - val_loss: 1.4262 - val_acc: 0.4118\n",
      "Epoch 42/50\n",
      "1684/1684 [==============================] - 4s 2ms/step - loss: 1.4239 - acc: 0.4177 - val_loss: 1.4253 - val_acc: 0.4089\n",
      "Epoch 43/50\n",
      "1684/1684 [==============================] - 4s 2ms/step - loss: 1.4233 - acc: 0.4146 - val_loss: 1.4271 - val_acc: 0.4096\n",
      "Epoch 44/50\n",
      "1684/1684 [==============================] - 4s 2ms/step - loss: 1.4229 - acc: 0.4174 - val_loss: 1.4247 - val_acc: 0.4059\n",
      "Epoch 45/50\n",
      "1684/1684 [==============================] - 4s 2ms/step - loss: 1.4212 - acc: 0.4198 - val_loss: 1.4250 - val_acc: 0.4067\n",
      "Epoch 46/50\n",
      "1684/1684 [==============================] - 4s 2ms/step - loss: 1.4229 - acc: 0.4181 - val_loss: 1.4263 - val_acc: 0.4112\n",
      "Epoch 47/50\n",
      "1684/1684 [==============================] - 4s 2ms/step - loss: 1.4232 - acc: 0.4164 - val_loss: 1.4254 - val_acc: 0.4090\n",
      "Epoch 48/50\n",
      "1684/1684 [==============================] - 4s 2ms/step - loss: 1.4227 - acc: 0.4152 - val_loss: 1.4254 - val_acc: 0.4078\n",
      "Epoch 49/50\n",
      "1684/1684 [==============================] - 4s 2ms/step - loss: 1.4228 - acc: 0.4188 - val_loss: 1.4252 - val_acc: 0.4157\n",
      "Epoch 50/50\n",
      "1684/1684 [==============================] - 4s 2ms/step - loss: 1.4210 - acc: 0.4200 - val_loss: 1.4260 - val_acc: 0.4161\n"
     ]
    },
    {
     "data": {
      "text/plain": [
       "<keras.callbacks.History at 0x23cd544faf0>"
      ]
     },
     "execution_count": 24,
     "metadata": {},
     "output_type": "execute_result"
    }
   ],
   "source": [
    "model.fit(x = train_x, y = train_y, epochs = 50, validation_split = 0.25, batch_size = 16, callbacks = [tensorboard])"
   ]
  }
 ],
 "metadata": {
  "interpreter": {
   "hash": "3b09108e514517bd5e4a6e228723cfb42d49fc72c35aeaac957cf3be0497138a"
  },
  "kernelspec": {
   "display_name": "Python 3.8.11 64-bit ('py38': conda)",
   "name": "python3"
  },
  "language_info": {
   "codemirror_mode": {
    "name": "ipython",
    "version": 3
   },
   "file_extension": ".py",
   "mimetype": "text/x-python",
   "name": "python",
   "nbconvert_exporter": "python",
   "pygments_lexer": "ipython3",
   "version": "3.8.11"
  },
  "orig_nbformat": 4
 },
 "nbformat": 4,
 "nbformat_minor": 2
}
