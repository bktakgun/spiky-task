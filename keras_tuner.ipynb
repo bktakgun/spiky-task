{
 "cells": [
  {
   "cell_type": "code",
   "execution_count": 1,
   "metadata": {},
   "outputs": [],
   "source": [
    "import os\n",
    "import numpy as np\n",
    "import tensorflow as tf\n",
    "from keras.layers import Dense, Dropout\n",
    "from keras.models import Sequential\n",
    "from keras_tuner.tuners import RandomSearch\n",
    "from keras_tuner.engine.hyperparameters import HyperParameters"
   ]
  },
  {
   "cell_type": "code",
   "execution_count": 2,
   "metadata": {},
   "outputs": [],
   "source": [
    "train_x = np.load(\"train_data_X_adasyn.npy\")\n",
    "train_y = np.load(\"train_data_y_adasyn.npy\")\n",
    "test_x = np.load(\"test_data_X_adasyn.npy\")\n",
    "test_y = np.load(\"test_data_y_adasyn.npy\")"
   ]
  },
  {
   "cell_type": "code",
   "execution_count": 3,
   "metadata": {},
   "outputs": [],
   "source": [
    "def get_model(hp):\n",
    "    model = Sequential()\n",
    "    model.add(tf.keras.Input(shape=train_x.shape[1:]))\n",
    "    model.add(Dense( hp.Choice('input', [8, 16, 32]), activation=\"relu\"))\n",
    "    \n",
    "    for i in range(hp.Int(\"n_layers\", 2, 10, 2)):\n",
    "        model.add(Dense(hp.Choice(f\"dense{i}\", [8, 16, 32, 64, 128]), activation=\"relu\"))\n",
    "        model.add(Dropout(hp.Float(f\"dropout{i}\", min_value=0.0, max_value=0.5, step=0.1)))\n",
    "\n",
    "    model.add(Dense(train_y.shape[1], activation = \"softmax\"))\n",
    "\n",
    "    model.compile(loss=tf.keras.losses.CategoricalCrossentropy(from_logits=False),\n",
    "              optimizer=tf.keras.optimizers.Adam(learning_rate=1e-3),\n",
    "              metrics=[\"acc\"])\n",
    "              \n",
    "    return model"
   ]
  },
  {
   "cell_type": "code",
   "execution_count": 4,
   "metadata": {},
   "outputs": [],
   "source": [
    "import time\n",
    "\n",
    "LOG_DIR = f\"{int(time.time())}_ADASYN\""
   ]
  },
  {
   "cell_type": "code",
   "execution_count": 5,
   "metadata": {},
   "outputs": [],
   "source": [
    "tuner = RandomSearch(\n",
    "    get_model,\n",
    "    objective = \"val_acc\",\n",
    "    max_trials = 10000000,\n",
    "    executions_per_trial = 1,\n",
    "    directory = LOG_DIR\n",
    ")"
   ]
  },
  {
   "cell_type": "code",
   "execution_count": null,
   "metadata": {},
   "outputs": [
    {
     "name": "stdout",
     "output_type": "stream",
     "text": [
      "Trial 11835 Complete [00h 00m 12s]\n",
      "val_acc: 0.4543825387954712\n",
      "\n",
      "Best val_acc So Far: 0.4756650924682617\n",
      "Total elapsed time: 13h 14m 05s\n",
      "\n",
      "Search: Running Trial #11836\n",
      "\n",
      "Hyperparameter    |Value             |Best Value So Far \n",
      "input             |8                 |32                \n",
      "n_layers          |2                 |2                 \n",
      "dense0            |8                 |128               \n",
      "dropout0          |0.4               |0.1               \n",
      "dense1            |8                 |128               \n",
      "dropout1          |0.3               |0.2               \n",
      "dense2            |32                |8                 \n",
      "dropout2          |0.1               |0.1               \n",
      "dense3            |64                |128               \n",
      "dropout3          |0.3               |0.4               \n",
      "dense4            |32                |64                \n",
      "dropout4          |0.2               |0.4               \n",
      "dense5            |8                 |16                \n",
      "dropout5          |0.1               |0.5               \n",
      "dense6            |128               |8                 \n",
      "dropout6          |0.4               |0.2               \n",
      "dense7            |32                |16                \n",
      "dropout7          |0.2               |0.3               \n",
      "dense8            |8                 |128               \n",
      "dropout8          |0.1               |0                 \n",
      "dense9            |64                |64                \n",
      "dropout9          |0.4               |0.4               \n",
      "\n",
      "Epoch 1/5\n",
      "837/837 [==============================] - 2s 2ms/step - loss: 1.7109 - acc: 0.2809 - val_loss: 1.5884 - val_acc: 0.3912\n",
      "Epoch 2/5\n",
      "837/837 [==============================] - 1s 1ms/step - loss: 1.5834 - acc: 0.3582 - val_loss: 1.5131 - val_acc: 0.4181\n",
      "Epoch 3/5\n",
      "837/837 [==============================] - 1s 1ms/step - loss: 1.5416 - acc: 0.3964 - val_loss: 1.5020 - val_acc: 0.4183\n",
      "Epoch 4/5\n",
      "837/837 [==============================] - 1s 1ms/step - loss: 1.5259 - acc: 0.4060 - val_loss: 1.4933 - val_acc: 0.4221\n",
      "Epoch 5/5\n",
      "636/837 [=====================>........] - ETA: 0s - loss: 1.5161 - acc: 0.4121"
     ]
    }
   ],
   "source": [
    "tuner.search(\n",
    "    x = train_x,\n",
    "    y = train_y,\n",
    "    epochs = 5,\n",
    "    batch_size = 64,\n",
    "    validation_data = (test_x,test_y))"
   ]
  },
  {
   "cell_type": "code",
   "execution_count": null,
   "metadata": {},
   "outputs": [],
   "source": []
  }
 ],
 "metadata": {
  "interpreter": {
   "hash": "3b09108e514517bd5e4a6e228723cfb42d49fc72c35aeaac957cf3be0497138a"
  },
  "kernelspec": {
   "display_name": "local-venv",
   "language": "python",
   "name": "local-venv"
  },
  "language_info": {
   "codemirror_mode": {
    "name": "ipython",
    "version": 3
   },
   "file_extension": ".py",
   "mimetype": "text/x-python",
   "name": "python",
   "nbconvert_exporter": "python",
   "pygments_lexer": "ipython3",
   "version": "3.8.11"
  }
 },
 "nbformat": 4,
 "nbformat_minor": 2
}
